{
 "metadata": {
  "language_info": {
   "codemirror_mode": {
    "name": "ipython",
    "version": 3
   },
   "file_extension": ".py",
   "mimetype": "text/x-python",
   "name": "python",
   "nbconvert_exporter": "python",
   "pygments_lexer": "ipython3",
   "version": "3.8.5-final"
  },
  "orig_nbformat": 2,
  "kernelspec": {
   "name": "python3",
   "display_name": "Python 3",
   "language": "python"
  }
 },
 "nbformat": 4,
 "nbformat_minor": 2,
 "cells": [
  {
   "cell_type": "code",
   "execution_count": 36,
   "metadata": {},
   "outputs": [
    {
     "output_type": "error",
     "ename": "NameError",
     "evalue": "name 'start' is not defined",
     "traceback": [
      "\u001b[1;31m---------------------------------------------------------------------------\u001b[0m",
      "\u001b[1;31mNameError\u001b[0m                                 Traceback (most recent call last)",
      "\u001b[1;32m<ipython-input-36-de02da7ebe0c>\u001b[0m in \u001b[0;36m<module>\u001b[1;34m\u001b[0m\n\u001b[0;32m     45\u001b[0m \u001b[0mcanvas\u001b[0m \u001b[1;33m=\u001b[0m \u001b[0mtk\u001b[0m\u001b[1;33m.\u001b[0m\u001b[0mCanvas\u001b[0m\u001b[1;33m(\u001b[0m\u001b[0mracine\u001b[0m\u001b[1;33m,\u001b[0m \u001b[0mbg\u001b[0m\u001b[1;33m=\u001b[0m\u001b[1;34m\"black\"\u001b[0m\u001b[1;33m,\u001b[0m \u001b[0mwidth\u001b[0m\u001b[1;33m=\u001b[0m\u001b[1;36m600\u001b[0m\u001b[1;33m,\u001b[0m \u001b[0mheight\u001b[0m\u001b[1;33m=\u001b[0m\u001b[1;36m400\u001b[0m\u001b[1;33m)\u001b[0m\u001b[1;33m\u001b[0m\u001b[1;33m\u001b[0m\u001b[0m\n\u001b[0;32m     46\u001b[0m \u001b[0mcanvas\u001b[0m\u001b[1;33m.\u001b[0m\u001b[0mgrid\u001b[0m\u001b[1;33m(\u001b[0m\u001b[0mcolumn\u001b[0m\u001b[1;33m=\u001b[0m\u001b[1;36m1\u001b[0m\u001b[1;33m)\u001b[0m\u001b[1;33m\u001b[0m\u001b[1;33m\u001b[0m\u001b[0m\n\u001b[1;32m---> 47\u001b[1;33m \u001b[0mbouton\u001b[0m \u001b[1;33m=\u001b[0m \u001b[0mtk\u001b[0m\u001b[1;33m.\u001b[0m\u001b[0mButton\u001b[0m\u001b[1;33m(\u001b[0m\u001b[0mracine\u001b[0m\u001b[1;33m,\u001b[0m \u001b[0mtext\u001b[0m\u001b[1;33m=\u001b[0m\u001b[1;34m\"Start\"\u001b[0m\u001b[1;33m,\u001b[0m \u001b[0mcommand\u001b[0m\u001b[1;33m=\u001b[0m\u001b[0mstart\u001b[0m\u001b[1;33m)\u001b[0m\u001b[1;33m\u001b[0m\u001b[1;33m\u001b[0m\u001b[0m\n\u001b[0m\u001b[0;32m     48\u001b[0m \u001b[0mcanvas\u001b[0m\u001b[1;33m.\u001b[0m\u001b[0mgrid\u001b[0m\u001b[1;33m(\u001b[0m\u001b[0mcolumn\u001b[0m\u001b[1;33m=\u001b[0m\u001b[1;36m1\u001b[0m\u001b[1;33m,\u001b[0m \u001b[0mrow\u001b[0m\u001b[1;33m=\u001b[0m\u001b[1;36m1\u001b[0m\u001b[1;33m)\u001b[0m\u001b[1;33m\u001b[0m\u001b[1;33m\u001b[0m\u001b[0m\n\u001b[0;32m     49\u001b[0m \u001b[0mballe\u001b[0m \u001b[1;33m=\u001b[0m \u001b[0mcreer_balle\u001b[0m\u001b[1;33m(\u001b[0m\u001b[1;33m)\u001b[0m\u001b[1;33m\u001b[0m\u001b[1;33m\u001b[0m\u001b[0m\n",
      "\u001b[1;31mNameError\u001b[0m: name 'start' is not defined"
     ]
    }
   ],
   "source": [
    "import tkinter as tk\n",
    "import random as rand\n",
    "cpt_balle=1\n",
    "LARGEUR = 600\n",
    "HAUTEUR = 400\n",
    "couleur=[\"red\",\"yellow\",\"blue\",\"pink\"]\n",
    "\n",
    "\n",
    "def creer_balle():\n",
    "    \"\"\"Dessine un rond bleu et retourne son identifiant\n",
    "     et les valeurs de déplacements dans une liste\"\"\"\n",
    "    x, y = LARGEUR // 2, HAUTEUR // 2\n",
    "    dx, dy = 3, 5\n",
    "    rayon = 20\n",
    "    cercle = canvas.create_oval((x-rayon, y-rayon),(x+rayon, y+rayon),fill=\"blue\")\n",
    "    return [cercle, dx, dy]\n",
    "    \n",
    "def mouvement():\n",
    "    \"\"\"Déplace la balle et ré-appelle la fonction avec un compte-à-rebours\"\"\"\n",
    "    rebond()\n",
    "    fin_rebond()\n",
    "    canvas.move(balle[0], balle[1], balle[2])\n",
    "    \n",
    "def rebond():\n",
    "    global balle, cpt_balle , couleur , cercle\n",
    "    x0, y0, x1, y1 = canvas.coords(balle[0])\n",
    "    if x0 <= 0 or x1 >= 600:\n",
    "        balle[1] = -balle[1]\n",
    "        cpt_balle+=1\n",
    "    if y0 <= 0 or y1 >= 400:\n",
    "        balle[2] = -balle[2]\n",
    "        cpt_balle+=1\n",
    "\n",
    "def fin_rebond():\n",
    "    global cpt_balle\n",
    "    if cpt_balle<21:\n",
    "        canvas.move(balle[0], balle[1], balle[2])\n",
    "        canvas.after(20, mouvement)\n",
    "\n",
    "#def couleur():\n",
    "#canvas.itemconfigure(cercle, fill=liste_couleur[cpt])\n",
    "   \n",
    "\n",
    "racine = tk.Tk()\n",
    "canvas = tk.Canvas(racine, bg=\"black\", width=600, height=400)\n",
    "canvas.grid(column=1)\n",
    "bouton = tk.Button(racine, text=\"Start\", command=)\n",
    "canvas.grid(column=1, row=1)\n",
    "balle = creer_balle()\n",
    "mouvement()\n",
    "racine.mainloop()\n",
    "print(cpt_balle)"
   ]
  },
  {
   "cell_type": "code",
   "execution_count": null,
   "metadata": {},
   "outputs": [],
   "source": []
  }
 ]
}