{
 "metadata": {
  "language_info": {
   "codemirror_mode": {
    "name": "ipython",
    "version": 3
   },
   "file_extension": ".py",
   "mimetype": "text/x-python",
   "name": "python",
   "nbconvert_exporter": "python",
   "pygments_lexer": "ipython3",
   "version": "3.8.5-final"
  },
  "orig_nbformat": 2,
  "kernelspec": {
   "name": "python3",
   "display_name": "Python 3",
   "language": "python"
  }
 },
 "nbformat": 4,
 "nbformat_minor": 2,
 "cells": [
  {
   "cell_type": "code",
   "execution_count": 2,
   "metadata": {},
   "outputs": [
    {
     "output_type": "stream",
     "name": "stdout",
     "text": [
      "4\n",
      "7\n"
     ]
    }
   ],
   "source": [
    "import tkinter as tk\n",
    "from random import randint\n",
    "\n",
    "##################\n",
    "# Constantes\n",
    "\n",
    "LARGEUR = 600\n",
    "HAUTEUR = 400\n",
    "\n",
    "\n",
    "###################\n",
    "# Fonctions\n",
    "\n",
    "def creer_balle():\n",
    "    \"\"\"Dessine un rond bleu et retourne son identifiant\n",
    "     et les valeurs de déplacements dans une liste\"\"\"\n",
    "    x, y = LARGEUR // 4, HAUTEUR // 2\n",
    "    dx, dy = 3, 5\n",
    "    rayon = 20\n",
    "    cercle = canvas.create_oval((x-rayon, y-rayon),\n",
    "                                (x+rayon, y+rayon),\n",
    "                                fill=\"blue\")\n",
    "    return [cercle, dx, dy]\n",
    "\n",
    "\n",
    "def mouvement():\n",
    "    global mur_on, mur\n",
    "    \"\"\"Déplace la balle et ré-appelle la fonction avec un compte-à-rebours\"\"\"\n",
    "\n",
    "    rebond()\n",
    "    canvas.move(balle[0], balle[1], balle[2])\n",
    "\n",
    "    proba = randint(0, 100)\n",
    "    x0, y0, x1, y1 = canvas.coords(balle[0])\n",
    "    if proba < 10:\n",
    "        if mur_on:\n",
    "            canvas.delete(mur)\n",
    "            mur_on = False\n",
    "        elif not mur_on and not (x0 < LARGEUR//2 and x1 > LARGEUR//2):\n",
    "            mur = canvas.create_line(LARGEUR//2, 0, LARGEUR//2,\n",
    "                                     HAUTEUR, fill=\"red\")\n",
    "            mur_on = True\n",
    "    if count_rebond < 30:\n",
    "        canvas.after(20, mouvement)\n",
    "\n",
    "\n",
    "def rebond():\n",
    "    \"\"\"Fait rebondir la balle sur les bords du canevas\"\"\"\n",
    "    global balle, count_rebond\n",
    "    x0, y0, x1, y1 = canvas.coords(balle[0])\n",
    "    if x1 >= LARGEUR//2 and x0 <= LARGEUR//2 and mur_on:\n",
    "        balle[1] = -balle[1]\n",
    "        count_rebond += 1\n",
    "        \n",
    "    if x0 <= 0 or x1 >= 600:\n",
    "        balle[1] = -balle[1]\n",
    "        count_rebond += 1\n",
    "        print(count_rebond)\n",
    "    if y0 <= 0 or y1 >= 400:\n",
    "        balle[2] = -balle[2]\n",
    "        count_rebond += 1\n",
    "       \n",
    "\n",
    "######################\n",
    "# programme principal\n",
    "\n",
    "count_rebond = 0\n",
    "racine = tk.Tk()\n",
    "canvas = tk.Canvas(racine, bg=\"black\", width=600, height=400)\n",
    "canvas.grid()\n",
    "mur = canvas.create_line(LARGEUR//2, 0, LARGEUR//2, HAUTEUR, fill = \"red\")\n",
    "mur_on = True\n",
    "balle = creer_balle()\n",
    "mouvement()\n",
    "racine.mainloop()\n",
    "\n"
   ]
  },
  {
   "cell_type": "code",
   "execution_count": null,
   "metadata": {},
   "outputs": [],
   "source": []
  }
 ]
}