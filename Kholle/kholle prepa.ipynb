{
 "metadata": {
  "language_info": {
   "codemirror_mode": {
    "name": "ipython",
    "version": 3
   },
   "file_extension": ".py",
   "mimetype": "text/x-python",
   "name": "python",
   "nbconvert_exporter": "python",
   "pygments_lexer": "ipython3",
   "version": "3.8.5-final"
  },
  "orig_nbformat": 2,
  "kernelspec": {
   "name": "python3",
   "display_name": "Python 3",
   "language": "python"
  }
 },
 "nbformat": 4,
 "nbformat_minor": 2,
 "cells": [
  {
   "cell_type": "code",
   "execution_count": 24,
   "metadata": {
    "tags": []
   },
   "outputs": [],
   "source": [
    "import tkinter as tk\n",
    "import random as rand\n",
    "\n",
    "cpt_balle=1\n",
    "LARGEUR = 600\n",
    "HAUTEUR = 400\n",
    "cpt_bouton=0\n",
    "couleur=[\"red\",\"yellow\",\"blue\",\"pink\",\"green\",\"brown\",\"white\"]\n",
    "cpt_bouton=0\n",
    "\n",
    "def creer_balle():\n",
    "    \"\"\"Dessine un rond bleu et retourne son identifiant\n",
    "     et les valeurs de déplacements dans une liste\"\"\"\n",
    "    x, y = LARGEUR // 2, HAUTEUR // 2\n",
    "    dx, dy = 3, 5\n",
    "    rayon = 20\n",
    "    cercle = canvas.create_oval((x-rayon, y-rayon),(x+rayon, y+rayon),fill=\"blue\")\n",
    "    return [cercle, dx, dy]\n",
    "    \n",
    "def mouvement():\n",
    "    \"\"\"Déplace la balle et ré-appelle la fonction avec un compte-à-rebours\"\"\"\n",
    "    rebond()\n",
    "    fin_rebond()\n",
    "    canvas.move(balle[0], balle[1], balle[2])\n",
    "    \n",
    "    \n",
    "def rebond():\n",
    "    global balle, cpt_balle , couleur \n",
    "    x0, y0, x1, y1 = canvas.coords(balle[0])\n",
    "    if x0 <= 0 or x1 >= 600:\n",
    "        i= rand.randint(0,6)\n",
    "        balle[1] = -balle[1]\n",
    "        cpt_balle+=1\n",
    "        canvas.itemconfigure(balle[0], fill=couleur[i])\n",
    "    if y0 <= 0 or y1 >= 400:\n",
    "        i= rand.randint(0,6)\n",
    "        balle[2] = -balle[2]\n",
    "        cpt_balle+=1\n",
    "        canvas.itemconfigure(balle[0], fill=couleur[i])\n",
    "\n",
    "def fin_rebond():\n",
    "    global cpt_balle\n",
    "    if cpt_balle<21:\n",
    "        canvas.move(balle[0], balle[1], balle[2])\n",
    "        canvas.after(20 , mouvement)\n",
    "\n",
    "def bouton_action() :\n",
    "    global cpt_bouton , balle\n",
    "    if cpt_bouton == 0: \n",
    "        cpt_bouton=1\n",
    "        bouton.config(text=\"Stop\")\n",
    "        mouvement()\n",
    "    elif cpt_bouton == 1: \n",
    "        cpt_bouton =0\n",
    "        canvas.after_cancel(mouvement)\n",
    "        bouton.config(text=\"Restart\")\n",
    "        \n",
    "\n",
    "racine = tk.Tk()\n",
    "canvas = tk.Canvas(racine, bg=\"black\", width=600, height=400)\n",
    "canvas.grid(column=1)\n",
    "bouton = tk.Button(racine, text=\"Start\",command=bouton_action)\n",
    "bouton.grid(row=1,column= 1)\n",
    "balle = creer_balle()\n",
    "racine.mainloop()\n"
   ]
  },
  {
   "cell_type": "code",
   "execution_count": null,
   "metadata": {},
   "outputs": [],
   "source": []
  }
 ]
}