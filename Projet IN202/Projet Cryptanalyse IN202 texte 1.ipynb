{
 "cells": [
  {
   "cell_type": "markdown",
   "metadata": {},
   "source": [
    "# Cryptanalyse\n",
    "\n",
    "Votre mission, si vous l'acceptez, est de déchiffrer 4 textes de difficulté croissante en vous aidant d'un programme python que vous allez écrire.\n",
    "\n",
    "\n",
    "- Les fichiers ont été cryptés avec des méthodes données en cours.\n",
    "- Les fichiers chiffrés contiennent des textes en ASCII. Une fois déchiffrés ils vous donneront des informations.\n",
    "- Vous devez vous baser sur les fréquences d'apparition des lettres en français (et des paires de lettres) pour casser les codes. Faire une fonction de calcul pour vous aider.\n",
    "- Penser à réutliser le code du td de cryptographie comme base de travail.\n",
    "- Le code de votre programme doit être sur github et vous fournirez un lien vers votre projet github avec le code et le résultat du décodage\n",
    "en le déposant sur Moodle avant le mercredi 12 mai.\n",
    "- Une soutenance sera organisée le 17 mai.\n",
    "\n",
    "\n"
   ]
  },
  {
   "cell_type": "code",
   "execution_count": 1,
   "metadata": {},
   "outputs": [],
   "source": [
    "\n",
    "#C'etait un code de César, un simple décalage est donc néccesaire\n",
    "\n",
    "alphabet=[]\n",
    "texte1 =\"kd oqnbgzhm ehbghdq ztqz tm bncd ozq rtarshstshnm zkogzadshptd: bgzptd kdssqd drs qdlokzbdd ozq tmd ztsqd. tshkhrdq kz eqdptdmbd cdr kdssqdr ontq cdbncdq kd ldrrzfd.\"\n"
   ]
  },
  {
   "cell_type": "code",
   "execution_count": 2,
   "metadata": {},
   "outputs": [
    {
     "output_type": "stream",
     "name": "stdout",
     "text": [
      "[['a', 1.2], ['b', 4.2], ['c', 2.4], ['d', 15.599999999999994], ['e', 1.2], ['f', 0.6], ['g', 2.4], ['h', 4.8], ['i', 0.0], ['j', 0.0], ['k', 4.8], ['l', 1.2], ['m', 3.0], ['n', 3.0], ['o', 3.6], ['p', 1.7999999999999998], ['q', 7.799999999999998], ['r', 4.8], ['s', 6.599999999999999], ['t', 6.599999999999999], ['u', 0.0], ['v', 0.0], ['w', 0.0], ['x', 0.0], ['y', 0.0], ['z', 7.199999999999998]]\n"
     ]
    }
   ],
   "source": [
    "####Fonctions####\n",
    "\n",
    "def alphabet_vide():\n",
    "    for i in range(97,123):\n",
    "        alphabet.append([chr(i),0.0])\n",
    "\n",
    "def nbrOccur (texte) :\n",
    "    \"\"\"Calcul le nombres d'occurence de chaque lettre du texte\"\"\"\n",
    "    vide()\n",
    "    for c in texte:\n",
    "        if 97 <= ord(c) <= 122 : #On verifie si c'est une lettre en minuscule\n",
    "            alphabet[ord(c)-97][1] += round(1 /len(texte),3)*100\n",
    "    \n",
    "def vide() :\n",
    "    for x in alphabet:\n",
    "        x[1]=0.0\n",
    "\n",
    "def rang(lettre):\n",
    "    \"\"\"Donne le rang des lettres en minuscule de 1 a 26\"\"\"\n",
    "    return ord(lettre)-96\n",
    "\n",
    "def decalage(lettre1,lettre2):\n",
    "    \"\"\"Ajoute le rang de la lettre au rang de clé modulo 26 si c'est une minuscule\"\"\"\n",
    "    if  ord(lettre1) < 97 or ord(lettre1) > 122:\n",
    "        return lettre1\n",
    "    return chr(((rang(lettre1)+rang(lettre2))%26)+97)\n",
    "\n",
    "def dec_texte(texte,cle):\n",
    "    \"\"\"Permet d'applique la fonction decalage pour chaque lettre du texte\"\"\"\n",
    "    taille_cle=len(cle)\n",
    "    res = \"\"\n",
    "    i = 0\n",
    "    j = 0\n",
    "    while (i < len(texte)):\n",
    "        res += decalage(texte[i], cle[i%taille_cle])\n",
    "        i += 1\n",
    "        j += 1\n",
    "        if j == len(cle):\n",
    "            j = 0\n",
    "    return res\n",
    "\n",
    "def chiffre():\n",
    "    \"\"\"Permet l'affichage tkinter\"\"\"\n",
    "    resultat.delete(0, tk.END)\n",
    "    if (entree_texte.get() == \"\" + entree_cle.get() == \"\"):\n",
    "        resultat.insert(0, \"Il manque des arguments\")\n",
    "    else:\n",
    "        resultat.insert(0,  dec_texte(entree_texte.get(), entree_cle.get()))\n",
    "\n",
    "\n",
    "\n",
    "alphabet_vide()\n",
    "nbrOccur(texte1)\n",
    "print(alphabet)\n"
   ]
  },
  {
   "cell_type": "code",
   "execution_count": 3,
   "metadata": {},
   "outputs": [
    {
     "output_type": "stream",
     "name": "stdout",
     "text": [
      "le prochain fichier aura un code par substitution alphabetique: chaque lettre est remplacee par une autre. utiliser la frequence des lettres pour decoder le message.\n"
     ]
    }
   ],
   "source": [
    "####Resultat####\n",
    "\n",
    "print(dec_texte(texte1,\"z\"))"
   ]
  },
  {
   "cell_type": "code",
   "execution_count": 19,
   "metadata": {},
   "outputs": [],
   "source": [
    "####Affichage tkinter####\n",
    "\n",
    "\n",
    "import tkinter as tk\n",
    "\n",
    "racine = tk.Tk()\n",
    "racine.title(\"Cryptographie\")\n",
    "\n",
    "entree_texte = tk.Entry(racine, width = 50, font = (\"helvetica\", \"20\"))\n",
    "entree_texte.grid(row = 0, column = 0)\n",
    "\n",
    "entree_cle = tk.Entry(racine, width = 50, font = (\"helvetica\", \"20\"))\n",
    "entree_cle.grid(row = 1, column = 0)\n",
    "\n",
    "label_texte = tk.Label(racine,font = (\"helvetica\", \"20\"), text = \"Entrer le message ici.\")\n",
    "label_texte.grid(row = 0, column = 1)\n",
    "\n",
    "label_cle = tk.Label(racine,font = (\"helvetica\", \"20\"), text = \"Entrer la clé ici.\")\n",
    "label_cle.grid(row = 1, column = 1)\n",
    "\n",
    "bouton_coder=tk.Button(racine, text=\"Dechiffrer texte\",fg=\"black\", width=15, command=chiffre)\n",
    "bouton_coder.grid(row=2, column=0)\n",
    "\n",
    "resultat=tk.Entry(racine,width = 50, font = (\"helvetica\", \"20\"))\n",
    "resultat.grid(row=3,column=0)\n",
    "\n",
    "label_res = tk.Label(racine, font = (\"helvetica\", \"20\"), text = \"Déchiffrement ici\")\n",
    "label_res.grid(row = 3, column = 1)\n",
    "\n",
    "racine.mainloop()"
   ]
  },
  {
   "cell_type": "code",
   "execution_count": null,
   "metadata": {},
   "outputs": [],
   "source": []
  }
 ],
 "metadata": {
  "kernelspec": {
   "name": "python385jvsc74a57bd09755979dfed8b5a854cd3bfb1fb9a7d8abb046bddeecd3a4695eaadb3c82d8f5",
   "display_name": "Python 3.8.5 64-bit ('l1-python': conda)"
  },
  "language_info": {
   "codemirror_mode": {
    "name": "ipython",
    "version": 3
   },
   "file_extension": ".py",
   "mimetype": "text/x-python",
   "name": "python",
   "nbconvert_exporter": "python",
   "pygments_lexer": "ipython3",
   "version": "3.8.5"
  }
 },
 "nbformat": 4,
 "nbformat_minor": 2
}