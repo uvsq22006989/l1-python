{
 "cells": [
  {
   "cell_type": "markdown",
   "metadata": {},
   "source": [
    "# Cryptanalyse\n",
    "\n",
    "Votre mission, si vous l'acceptez, est de déchiffrer 4 textes de difficulté croissante en vous aidant d'un programme python que vous allez écrire.\n",
    "\n",
    "\n",
    "- Les fichiers ont été cryptés avec des méthodes données en cours.\n",
    "- Les fichiers chiffrés contiennent des textes en ASCII. Une fois déchiffrés ils vous donneront des informations.\n",
    "- Vous devez vous baser sur les fréquences d'apparition des lettres en français (et des paires de lettres) pour casser les codes. Faire une fonction de calcul pour vous aider.\n",
    "- Penser à réutliser le code du td de cryptographie comme base de travail.\n",
    "- Le code de votre programme doit être sur github et vous fournirez un lien vers votre projet github avec le code et le résultat du décodage\n",
    "en le déposant sur Moodle avant le mercredi 12 mai.\n",
    "- Une soutenance sera organisée le 17 mai.\n",
    "\n",
    "\n"
   ]
  },
  {
   "cell_type": "code",
   "execution_count": 62,
   "metadata": {},
   "outputs": [],
   "source": [
    "#Il suffit de rentrer le texte puis de cliquer le boutton \"dechiffrer\", j'ai utilisé la fréquence des lettres qui m'a permis de realiser que le début était identique a celui du texte decrypté précedent\n",
    "\n",
    "\n",
    "alphabet=[]\n",
    "texte2 =\"gx qosvlnkd wkvlkxo xiu vscx qno yd fsu cx qniix cx unkggx kdvsddyx xu vsdukxdu g'kdckvx. gxi gxuuoxi cy fsu cx qniix qxofxuuxdu cx cxvngxo gxi gxuuoxi cy fxiinmx sokmkdng fscygs 26. ixygxi gxi gxuuoxi cx n n a isdu vlkwwoxxi.\"\n",
    "\n",
    "Alph_Crypte=[\"z\",\"0\",\"d\",\"n\",\"0\",\"m\",\"l\",\"0\",\"s\",\"0\",\"i\",\"h\",\"g\",\"a\",\"r\",\"0\",\"p\",\"0\",\"o\",\"0\",\"t\",\"c\",\"f\",\"e\",\"u\",\"0\"]\n",
    "\n",
    "\n"
   ]
  },
  {
   "cell_type": "code",
   "execution_count": 63,
   "metadata": {},
   "outputs": [
    {
     "output_type": "stream",
     "name": "stdout",
     "text": [
      "[['a', 0.4], ['b', 0.0], ['c', 4.3999999999999995], ['d', 4.3999999999999995], ['e', 0.0], ['f', 2.0], ['g', 5.6000000000000005], ['h', 0.0], ['i', 6.800000000000002], ['j', 0.0], ['k', 4.3999999999999995], ['l', 1.2000000000000002], ['m', 0.8], ['n', 3.9999999999999996], ['o', 3.9999999999999996], ['p', 0.0], ['q', 2.0], ['r', 0.0], ['s', 3.9999999999999996], ['t', 0.0], ['u', 6.800000000000002], ['v', 3.1999999999999997], ['w', 1.2000000000000002], ['x', 14.400000000000007], ['y', 2.4], ['z', 0.0]]\n"
     ]
    }
   ],
   "source": [
    "####Fonctions#### \n",
    "\n",
    "def alphabet_vide():\n",
    "    for i in range(97,123):\n",
    "        alphabet.append([chr(i),0.0])\n",
    "\n",
    "def nbrOccur (texte) :\n",
    "    \"\"\"Calcul le nombres d'occurence de chaque lettre du texte\"\"\"\n",
    "    vide()\n",
    "    for c in texte:\n",
    "        if 97 <= ord(c) <= 122 : #On verifie si c'est une lettre en minuscule\n",
    "            alphabet[ord(c)-97][1] += round(1 /len(texte),3)*100\n",
    "    \n",
    "def vide() :\n",
    "    for x in alphabet:\n",
    "        x[1]=0.0\n",
    "\n",
    "def rang(lettre):\n",
    "    \"\"\"Donne le rang des lettres en minuscule de 1 a 26\"\"\"\n",
    "    return ord(lettre)-97\n",
    "\n",
    "def decalage(lettre1):\n",
    "    \"\"\"Remplace les lettres du texte par la lettre dont elles sont substitue\"\"\"\n",
    "    global Alph_Crypte\n",
    "    if  ord(lettre1) < 97 or ord(lettre1) > 122:\n",
    "        return lettre1\n",
    "    else :\n",
    "        return Alph_Crypte[ord(lettre1)-97]\n",
    "\n",
    "def dec_texte(texte):\n",
    "    \"\"\"Permet d'applique la fonction decalage pour chaque lettre du texte\"\"\"\n",
    "    res = \"\"\n",
    "    i = 0\n",
    "    while (i < len(texte)):\n",
    "        res += decalage(texte[i])\n",
    "        i += 1\n",
    "        \n",
    "    return res\n",
    "\n",
    "def chiffre():\n",
    "    \"\"\"Permet l'affichage tkinter\"\"\"\n",
    "    resultat.delete(0, tk.END)\n",
    "    resultat.insert(0,  dec_texte(entree_texte.get()))\n",
    "\n",
    "\n",
    "\n",
    "alphabet_vide()\n",
    "nbrOccur(texte2)\n",
    "print(alphabet)\n",
    "\n"
   ]
  },
  {
   "cell_type": "code",
   "execution_count": 64,
   "metadata": {},
   "outputs": [
    {
     "output_type": "stream",
     "name": "stdout",
     "text": [
      "le prochain fichier est code par un mot de passe de taille inconnue et contient l'indice. les lettres du mot de passe permettent de decaler les lettres du message original modulo 26. seules les lettres de a a z sont chiffrees.\n"
     ]
    }
   ],
   "source": [
    "####Resultat####\n",
    "\n",
    "print(dec_texte(texte2))"
   ]
  },
  {
   "cell_type": "code",
   "execution_count": 65,
   "metadata": {},
   "outputs": [],
   "source": [
    "##### Affichage avec tkinter####\n",
    "\n",
    "\n",
    "import tkinter as tk\n",
    "\n",
    "racine = tk.Tk()\n",
    "racine.title(\"Cryptographie\")\n",
    "\n",
    "entree_texte = tk.Entry(racine, width = 50, font = (\"helvetica\", \"20\"))\n",
    "entree_texte.grid(row = 0, column = 0)\n",
    "\n",
    "label_texte = tk.Label(racine,font = (\"helvetica\", \"20\"), text = \"Entrer le message ici.\")\n",
    "label_texte.grid(row = 0, column = 1)\n",
    "\n",
    "label_cle = tk.Label(racine,font = (\"helvetica\", \"20\"), text = \"Entrer la clé ici.\")\n",
    "label_cle.grid(row = 1, column = 1)\n",
    "\n",
    "bouton_coder=tk.Button(racine, text=\"Dechiffrer texte\",fg=\"black\", width=15, command=chiffre)\n",
    "bouton_coder.grid(row=2, column=0)\n",
    "\n",
    "resultat=tk.Entry(racine,width = 50, font = (\"helvetica\", \"20\"))\n",
    "resultat.grid(row=3,column=0)\n",
    "\n",
    "label_res = tk.Label(racine, font = (\"helvetica\", \"20\"), text = \"Déchiffrement ici\")\n",
    "label_res.grid(row = 3, column = 1)\n",
    "\n",
    "racine.mainloop()"
   ]
  },
  {
   "cell_type": "code",
   "execution_count": null,
   "metadata": {},
   "outputs": [],
   "source": []
  }
 ],
 "metadata": {
  "kernelspec": {
   "name": "python385jvsc74a57bd09755979dfed8b5a854cd3bfb1fb9a7d8abb046bddeecd3a4695eaadb3c82d8f5",
   "display_name": "Python 3.8.5 64-bit ('l1-python': conda)"
  },
  "language_info": {
   "codemirror_mode": {
    "name": "ipython",
    "version": 3
   },
   "file_extension": ".py",
   "mimetype": "text/x-python",
   "name": "python",
   "nbconvert_exporter": "python",
   "pygments_lexer": "ipython3",
   "version": "3.8.5"
  }
 },
 "nbformat": 4,
 "nbformat_minor": 2
}