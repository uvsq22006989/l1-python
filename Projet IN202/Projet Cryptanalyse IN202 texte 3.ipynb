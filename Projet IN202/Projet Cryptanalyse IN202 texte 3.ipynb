{
 "cells": [
  {
   "cell_type": "markdown",
   "metadata": {},
   "source": [
    "# Cryptanalyse\n",
    "\n",
    "Votre mission, si vous l'acceptez, est de déchiffrer 4 textes de difficulté croissante en vous aidant d'un programme python que vous allez écrire.\n",
    "\n",
    "\n",
    "- Les fichiers ont été cryptés avec des méthodes données en cours.\n",
    "- Les fichiers chiffrés contiennent des textes en ASCII. Une fois déchiffrés ils vous donneront des informations.\n",
    "- Vous devez vous baser sur les fréquences d'apparition des lettres en français (et des paires de lettres) pour casser les codes. Faire une fonction de calcul pour vous aider.\n",
    "- Penser à réutliser le code du td de cryptographie comme base de travail.\n",
    "- Le code de votre programme doit être sur github et vous fournirez un lien vers votre projet github avec le code et le résultat du décodage\n",
    "en le déposant sur Moodle avant le mercredi 12 mai.\n",
    "- Une soutenance sera organisée le 17 mai.\n",
    "\n",
    "\n"
   ]
  },
  {
   "cell_type": "code",
   "execution_count": 2,
   "metadata": {},
   "outputs": [],
   "source": [
    "#A partir de la séquence :\"e n'ehfp\" et de la fréquence des lettre précendent une autre lettres, il a éte possible de determiner qu'elle etait \"a l'aide de\".Il fallait donc soustraire la position des lettres texte crypté aux lettres du texte claire, et je trouve la repetition de \"vaxo\",j'ai donc tester les 4 composition possible et xova etait la bonne\n",
    "\n",
    "alphabet=[]\n",
    "texte3 =\"dceuq e n'ehfp cg p'kyhhep uqfw cgiy citudm c gzudiq ni ezhd px c jhptv ep cggsht. kg hdtymdt xdzei gdx rzyq wir mvzxpw, cifcchdb znwd ccyw wy lkcsht, dp isgd uqfw wy ?\"\n"
   ]
  },
  {
   "cell_type": "code",
   "execution_count": 3,
   "metadata": {},
   "outputs": [
    {
     "output_type": "stream",
     "name": "stdout",
     "text": [
      "[['a', 0.0], ['b', 0.6], ['c', 7.799999999999998], ['d', 7.199999999999998], ['e', 4.2], ['f', 2.4], ['g', 4.8], ['h', 5.3999999999999995], ['i', 4.8], ['j', 0.6], ['k', 1.7999999999999998], ['l', 0.6], ['m', 1.7999999999999998], ['n', 1.7999999999999998], ['o', 0.0], ['p', 4.8], ['q', 3.0], ['r', 1.2], ['s', 1.7999999999999998], ['t', 3.6], ['u', 3.0], ['v', 1.2], ['w', 4.8], ['x', 2.4], ['y', 4.2], ['z', 3.6]]\n"
     ]
    }
   ],
   "source": [
    "####Fonctions####\n",
    "\n",
    "def alphabet_vide():\n",
    "    \"\"\"Creer un alphabet en minuscule\"\"\"\n",
    "    for i in range(97,123):\n",
    "        alphabet.append([chr(i),0.0])\n",
    "\n",
    "def nbrOccur (texte) :\n",
    "    \"\"\"Calcul le nombres d'occurence de chaque lettre du texte\"\"\"\n",
    "    vide()\n",
    "    for c in texte:\n",
    "        if 97 <= ord(c) <= 122 : #On verifie si c'est une lettre en minuscule\n",
    "            alphabet[ord(c)-97][1] += round(1 /len(texte),3)*100\n",
    "    \n",
    "def vide() :\n",
    "    for x in alphabet:\n",
    "        x[1]=0.0\n",
    "\n",
    "def rang(lettre):\n",
    "    \"\"\"Donne le rang des lettres en minuscule de 1 a 26\"\"\"\n",
    "    return ord(lettre)-96\n",
    "\n",
    "def decalage(lettre1,lettre2):\n",
    "    \"\"\"Ajoute le rang de la lettre au rang de clé modulo 26 si c'est une minuscule\"\"\"\n",
    "    if  ord(lettre1) < 97 or ord(lettre1) > 122:\n",
    "        return lettre1\n",
    "    return chr(((rang(lettre1)+rang(lettre2))%26)+96)\n",
    "\n",
    "def dec_texte(texte,cle):\n",
    "    \"\"\"Permet d'applique la fonction decalage pour chaque lettre du texte\"\"\"\n",
    "    taille_cle=len(cle)\n",
    "    res = \"\"\n",
    "    i = 0\n",
    "    j = 0\n",
    "    while (i < len(texte)):\n",
    "        res += decalage(texte[i], cle[i%taille_cle])\n",
    "        i += 1\n",
    "        j += 1\n",
    "        if j == len(cle):\n",
    "            j = 0\n",
    "    return res\n",
    "\n",
    "def chiffre():\n",
    "    \"\"\"Permet l'affichage tkinter\"\"\"\n",
    "    resultat.delete(0, tk.END)\n",
    "    if (entree_texte.get() == \"\" + entree_cle.get() == \"\"):\n",
    "        resultat.insert(0, \"Il manque des arguments\")\n",
    "    else:\n",
    "        resultat.insert(0,  dec_texte(entree_texte.get(), entree_cle.get()))\n",
    "\n",
    "\n",
    "\n",
    "alphabet_vide()\n",
    "nbrOccur(texte3)\n",
    "print(alphabet)\n"
   ]
  },
  {
   "cell_type": "code",
   "execution_count": 6,
   "metadata": {},
   "outputs": [
    {
     "output_type": "stream",
     "name": "stdout",
     "text": [
      "bravo a l'aide de l'indice vous ave` reussi a casser ce code et a finir ce devoir. le dernier texte est pour les braves, regarde` vous dans un miroir, en etes vous un ?\n"
     ]
    }
   ],
   "source": [
    "####Resultat####\n",
    "\n",
    "\n",
    "print(dec_texte(texte3,\"xova\"))"
   ]
  },
  {
   "cell_type": "code",
   "execution_count": 25,
   "metadata": {},
   "outputs": [],
   "source": [
    "####Affichage tkinter####\n",
    "\n",
    "\n",
    "import tkinter as tk\n",
    "\n",
    "racine = tk.Tk()\n",
    "racine.title(\"Cryptographie\")\n",
    "\n",
    "entree_texte = tk.Entry(racine, width = 50, font = (\"helvetica\", \"20\"))\n",
    "entree_texte.grid(row = 0, column = 0)\n",
    "\n",
    "entree_cle = tk.Entry(racine, width = 50, font = (\"helvetica\", \"20\"))\n",
    "entree_cle.grid(row = 1, column = 0)\n",
    "\n",
    "label_texte = tk.Label(racine,font = (\"helvetica\", \"20\"), text = \"Entrer le message ici.\")\n",
    "label_texte.grid(row = 0, column = 1)\n",
    "\n",
    "label_cle = tk.Label(racine,font = (\"helvetica\", \"20\"), text = \"Entrer la clé ici.\")\n",
    "label_cle.grid(row = 1, column = 1)\n",
    "\n",
    "bouton_coder=tk.Button(racine, text=\"Dechiffrer texte\",fg=\"black\", width=15, command=chiffre)\n",
    "bouton_coder.grid(row=2, column=0)\n",
    "\n",
    "resultat=tk.Entry(racine,width = 50, font = (\"helvetica\", \"20\"))\n",
    "resultat.grid(row=3,column=0)\n",
    "\n",
    "label_res = tk.Label(racine, font = (\"helvetica\", \"20\"), text = \"Déchiffrement ici\")\n",
    "label_res.grid(row = 3, column = 1)\n",
    "\n",
    "racine.mainloop()"
   ]
  },
  {
   "cell_type": "code",
   "execution_count": null,
   "metadata": {},
   "outputs": [],
   "source": []
  }
 ],
 "metadata": {
  "kernelspec": {
   "name": "python385jvsc74a57bd09755979dfed8b5a854cd3bfb1fb9a7d8abb046bddeecd3a4695eaadb3c82d8f5",
   "display_name": "Python 3.8.5 64-bit ('l1-python': conda)"
  },
  "language_info": {
   "codemirror_mode": {
    "name": "ipython",
    "version": 3
   },
   "file_extension": ".py",
   "mimetype": "text/x-python",
   "name": "python",
   "nbconvert_exporter": "python",
   "pygments_lexer": "ipython3",
   "version": "3.8.5"
  }
 },
 "nbformat": 4,
 "nbformat_minor": 2
}