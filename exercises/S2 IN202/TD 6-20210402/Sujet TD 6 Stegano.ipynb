{
 "cells": [
  {
   "cell_type": "code",
   "execution_count": 11,
   "metadata": {},
   "outputs": [],
   "source": [
    "import tkinter as tk\n",
    "import PIL as pil\n",
    "from PIL import Image\n",
    "from PIL import ImageTk \n",
    "from tkinter import filedialog\n",
    "from tkinter import simpledialog\n",
    "\n",
    "def nbrCol(matrice):\n",
    "    return(len(matrice[0]))\n",
    "\n",
    "def nbrLig(matrice):\n",
    "    return len(matrice)\n",
    "\n",
    "def saving(matPix, filename):\n",
    "    toSave=pil.Image.new(\"RGBA\",(nbrCol(matPix),nbrLig(matPix)))\n",
    "    for i in range(nbrCol(matPix)):\n",
    "        for j in range(nbrLig(matPix)):\n",
    "            toSave.putpixel((i,j),matPix[j][i])\n",
    "    toSave.save(filename)\n",
    "\n",
    "\n",
    "def loading(filename):\n",
    "    toLoad=pil.Image.open(filename)\n",
    "    mat=[[(255,255,255,255)]*toLoad.size[0] for k in range(toLoad.size[1])]\n",
    "    for i in range(toLoad.size[1]):\n",
    "        for j in range(toLoad.size[0]):\n",
    "            mat[i][j]=toLoad.getpixel((j,i))\n",
    "    return mat\n",
    "\n",
    "create=True\n",
    "nomImgCourante=\"\"\n",
    "\n",
    "def charger(widg):\n",
    "    global create\n",
    "    global photo\n",
    "    global img\n",
    "    global canvas\n",
    "    global dessin\n",
    "    global nomImgCourante\n",
    "    filename= filedialog.askopenfile(mode='rb', title='Choose a file')\n",
    "    img = pil.Image.open(filename)\n",
    "    nomImgCourante=filename.name\n",
    "    photo = ImageTk.PhotoImage(img)\n",
    "    if create:    \n",
    "        canvas = tk.Canvas(widg, width = img.size[0], height = img.size[1])\n",
    "        dessin = canvas.create_image(0,0,anchor = tk.NW, image=photo)\n",
    "        canvas.grid(row=0,column=1,rowspan=4,columnspan=2)\n",
    "        create=False\n",
    "        \n",
    "    else:\n",
    "        canvas.grid_forget()\n",
    "        canvas = tk.Canvas(widg, width = img.size[0], height = img.size[1])\n",
    "        dessin=canvas.create_image(0,0,anchor = tk.NW, image=photo)\n",
    "        canvas.grid(row=0,column=1,rowspan=4,columnspan=2)\n",
    "\n",
    "def modify(matrice):\n",
    "    global imgModif\n",
    "    global nomImgCourante\n",
    "    saving(matrice,\"modif.png\")\n",
    "    imgModif=ImageTk.PhotoImage(file=\"modif.png\")\n",
    "    canvas.itemconfigure(dessin, image=imgModif)\n",
    "    nomImgCourante=\"modif.png\"\n",
    "\n",
    "\n",
    "def fermer_fenetre():\n",
    "    affi.destroy()"
   ]
  },
  {
   "cell_type": "markdown",
   "metadata": {},
   "source": [
    "Ecrire une fonction qui renvoie l'équivalent en entier des `k` derniers bits d'un nombre."
   ]
  },
  {
   "cell_type": "code",
   "execution_count": 12,
   "metadata": {},
   "outputs": [
    {
     "output_type": "stream",
     "name": "stdout",
     "text": [
      "7\n"
     ]
    }
   ],
   "source": [
    "def derniers_bits(x,k): #renvoie les k derniers bits de x\n",
    "    return x & ((1 <<k)-1)\n",
    "\n",
    "print(derniers_bits(15,3))"
   ]
  },
  {
   "cell_type": "markdown",
   "metadata": {},
   "source": [
    "# Chiffrement"
   ]
  },
  {
   "cell_type": "markdown",
   "metadata": {},
   "source": [
    "Donner une fonction qui remplace les `k` derniers bits d'un nombre par les `k` derniers bits d'un autre nombre"
   ]
  },
  {
   "cell_type": "code",
   "execution_count": 13,
   "metadata": {},
   "outputs": [
    {
     "output_type": "stream",
     "name": "stdout",
     "text": [
      "8\n"
     ]
    }
   ],
   "source": [
    "def encoder_kbits(x,y,k): #remplace les k derniers bits de x par ceux de y\n",
    "    return x - derniers_bits (x,k) + derniers_bits(y,k)\n",
    "    pass\n",
    "\n",
    "print(encoder_kbits(15,8,3))"
   ]
  },
  {
   "cell_type": "markdown",
   "metadata": {},
   "source": [
    "Créer une fonction qui encode un entier `e` sur 8 bits dans les bits de poids faible d'un pixel : 3 derniers bits dans le canal rouge, 3 bits du milieu dans le canal vert et 2 premiers dans le canal bleu"
   ]
  },
  {
   "cell_type": "code",
   "execution_count": 19,
   "metadata": {},
   "outputs": [],
   "source": [
    "def encoder_entier(e,pixel):  #encode un entier e sur 8 bits dans les bits de poids faible d'un pixel\n",
    "    r =encoder_kbits(pixel[0],e, 3)\n",
    "    v =encoder_kbits(pixel[1],e >> 3, 3)\n",
    "    b =encoder_kbits(pixel[2],e >> 6, 2)\n",
    "    return (r,v,b)"
   ]
  },
  {
   "cell_type": "markdown",
   "metadata": {},
   "source": [
    "Quelle fonction permet de transformer un caractère en entier ?"
   ]
  },
  {
   "cell_type": "code",
   "execution_count": null,
   "metadata": {},
   "outputs": [],
   "source": []
  },
  {
   "cell_type": "markdown",
   "metadata": {},
   "source": [
    "Créer une fonction qui encode un texte (récupéré dans un champ de texte) dans les bits de poids faibles des pixels d'une matrice de pixels, on remarquera qu'il faut également encoder la taille du message crypté si l'on souhaite pouvoir le décrypter."
   ]
  },
  {
   "cell_type": "code",
   "execution_count": 15,
   "metadata": {},
   "outputs": [],
   "source": [
    "def coder():\n",
    "    texte_a_cacher = entree.get()\n",
    "    mat=loading(nomImgCourante) \n",
    "    taille = len(texte_a_cacher)\n",
    "    mat[0][0] =encoder_entier(taille,mat[0][0])\n",
    "    i=1\n",
    "    j=0\n",
    "    for elm in texte_a_cacher:\n",
    "        mat[j][i] =encoder_entier(ord(elm),mat[j][i])\n",
    "        i += 1\n",
    "        if i == nbrCol(mat) :\n",
    "            j+=1\n",
    "            i=0\n",
    "    #Choisir un ordre sur les pixels pour encoder le message\n",
    "    modify(mat)"
   ]
  },
  {
   "cell_type": "markdown",
   "metadata": {},
   "source": [
    "# Déchiffrement"
   ]
  },
  {
   "cell_type": "markdown",
   "metadata": {},
   "source": [
    "Faire une fonction qui permet de décoder un entier (=un caractère) caché dans un pixel, ATTENTION à l'ordre des bits, on veut retourner un entier"
   ]
  },
  {
   "cell_type": "code",
   "execution_count": 26,
   "metadata": {},
   "outputs": [],
   "source": [
    "def decoder_pixel(pixel):\n",
    "    res= (derniers_bits(pixel[2],2) << 6) +( derniers_bits(pixel[1],3) << 3) + derniers_bits(pixel[0],3)\n",
    "    return res"
   ]
  },
  {
   "cell_type": "markdown",
   "metadata": {},
   "source": [
    "Quelle fonction permet d'associer un caractère à un entier ?"
   ]
  },
  {
   "cell_type": "code",
   "execution_count": null,
   "metadata": {},
   "outputs": [],
   "source": [
    "La fonction chr()"
   ]
  },
  {
   "cell_type": "markdown",
   "metadata": {},
   "source": [
    "Créer une fonction qui permet de décoder un message caché dans une image selon l'algorithme que nous avons utilisé plus haut"
   ]
  },
  {
   "cell_type": "code",
   "execution_count": 17,
   "metadata": {},
   "outputs": [],
   "source": [
    "def decoder():\n",
    "    mat=loading(nomImgCourante)\n",
    "    sortie = \"\"\n",
    "    taille_msg=decoder_pixel(mat[0][0])\n",
    "    i=0\n",
    "    j=1\n",
    "    while(len(sortie) < taille_msg) :\n",
    "        sortie += chr(decoder_pixel[i][j])\n",
    "        if j == nbrCol(mat):\n",
    "            i+=1\n",
    "            j=0\n",
    "    label_decodage.config(text= sortie)\n",
    "    "
   ]
  },
  {
   "cell_type": "code",
   "execution_count": 27,
   "metadata": {},
   "outputs": [
    {
     "output_type": "stream",
     "name": "stderr",
     "text": [
      "Exception in Tkinter callback\nTraceback (most recent call last):\n  File \"C:\\Users\\dilou\\miniconda3\\envs\\l1-python\\lib\\tkinter\\__init__.py\", line 1883, in __call__\n    return self.func(*args)\n  File \"<ipython-input-27-8555facffac5>\", line 17, in <lambda>\n    bouton = tk.Button(affi, text=\"Charger\", fg=\"black\", width=15, command=lambda :charger(affi))\n  File \"<ipython-input-11-cf663f2e175a>\", line 51, in charger\n    canvas.grid_forget()\n  File \"C:\\Users\\dilou\\miniconda3\\envs\\l1-python\\lib\\tkinter\\__init__.py\", line 2494, in grid_forget\n    self.tk.call('grid', 'forget', self._w)\n_tkinter.TclError: can't invoke \"grid\" command: application has been destroyed\n"
     ]
    }
   ],
   "source": [
    "affi=tk.Tk()\n",
    "affi.title(\"Stéganographie\")\n",
    "\n",
    "entree = tk.Entry(affi, width = 20  ,font = (\"helvetica\", \"20\"))\n",
    "entree.grid(row = 0, column = 0)\n",
    "\n",
    "\n",
    "bouton_coder=tk.Button(affi, text=\"Coder texte\",fg=\"black\", width=15, command=coder)\n",
    "bouton_coder.grid(row=1,column=0)\n",
    "\n",
    "bouton_decoder=tk.Button(affi,text=\"Décoder texte\",fg=\"black\",  width=15,command=decoder)\n",
    "bouton_decoder.grid(row=2,column=0)\n",
    "\n",
    "label_decodage=tk.Label(affi, text = \"Décode moi !\")\n",
    "label_decodage.grid(row=3,column=0)\n",
    "\n",
    "bouton = tk.Button(affi, text=\"Charger\", fg=\"black\", width=15, command=lambda :charger(affi))\n",
    "bouton.grid(row=5,column=0)\n",
    "\n",
    "btn = tk.Button(affi, text=\"Quitter\", fg=\"black\", width=8, command=fermer_fenetre)\n",
    "btn.grid(row=5,column=2, sticky='E')\n",
    "\n",
    "affi.mainloop()"
   ]
  },
  {
   "cell_type": "code",
   "execution_count": null,
   "metadata": {},
   "outputs": [],
   "source": []
  }
 ],
 "metadata": {
  "kernelspec": {
   "display_name": "Python 3",
   "language": "python",
   "name": "python3"
  },
  "language_info": {
   "codemirror_mode": {
    "name": "ipython",
    "version": 3
   },
   "file_extension": ".py",
   "mimetype": "text/x-python",
   "name": "python",
   "nbconvert_exporter": "python",
   "pygments_lexer": "ipython3",
   "version": "3.8.5"
  }
 },
 "nbformat": 4,
 "nbformat_minor": 4
}