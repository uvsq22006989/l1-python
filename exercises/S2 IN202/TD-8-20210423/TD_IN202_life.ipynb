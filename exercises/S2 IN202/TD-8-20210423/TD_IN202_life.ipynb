{
 "cells": [
  {
   "cell_type": "markdown",
   "metadata": {},
   "source": [
    "# Jeu de la vie\n",
    "  Le jeu de la vie est un automate cellulaire à 2 dimensions. Le voisinage d'une cellule est constitué des 8 cellules qui l'entourent. Comme on travaille sur une grille finie on considère qu'elle a la forme d'un tore : la ligne du bas et celle du haut communiquent, et la colonne de gauche et la colonne de droite communiquent. La règle d'évolution du jeu de la vie est donnée par les règles suivantes:\n",
    "\n",
    "\n",
    "  \n",
    "  - si une case morte est entourée de trois cases vivantes elle devient\n",
    "    vivante;\n",
    "  - si une case vivante est entourée de deux ou trois cases vivantes elle reste vivante;\n",
    "  - dans tous les autres cas, la case reste ou devient morte;\n",
    "  "
   ]
  },
  {
   "cell_type": "markdown",
   "metadata": {},
   "source": [
    "Le nombre des cases est donnée par la constante `CASES` et le côté d'une case en nombre de pixels\n",
    "par la constante `COTE`. Définir les constantes `HAUTEUR` et `LARGEUR` qui donnent la taille du canevas qui va afficher le jeu de la vie. Créer ce canevas qu'il faut appeler `canvas`."
   ]
  },
  {
   "cell_type": "code",
   "execution_count": null,
   "metadata": {},
   "outputs": [],
   "source": [
    "CASES  = 10\n",
    "COTE = 100\n",
    "HEIGHT = ?\n",
    "WIDTH  = ?"
   ]
  },
  {
   "cell_type": "markdown",
   "metadata": {},
   "source": [
    "On considère un tableau à deux dimensions `etat_grille`, de CASES*CASES qui représente les cases du jeu de la vie. Déclarer ce tableau et l'initialiser pour représenter uniquement des cases mortes (0 pour les cases mortes et 1 pour les vivantes)."
   ]
  },
  {
   "cell_type": "code",
   "execution_count": null,
   "metadata": {},
   "outputs": [],
   "source": []
  },
  {
   "cell_type": "markdown",
   "metadata": {},
   "source": [
    "Ajouter le code fournit en dessous. La fonction `affiche_vivante(i,j)` permet d'afficher la cellule (i,j) comme vivante alors que `affiche_morte(i,j)` permet d'afficher la cellule (i,j) comme morte.\n",
    "Programmer une fonction `modifie(i,j)` qui modifie l'état (i,j) de etat_grille et met à jour l'affichage à l'aide des fonctions précédentes."
   ]
  },
  {
   "cell_type": "code",
   "execution_count": null,
   "metadata": {},
   "outputs": [],
   "source": [
    "\n",
    "gestion_canvas = [[0] * CASES for i in range(CASES)]\n",
    "\n",
    "def affiche_vivant(i,j):   #agit sur gestion_canvas et l'affichage du canevas \n",
    "    gestion_canvas[i][j] = canvas.create_rectangle((i*COTE,j*COTE),((i+1)*COTE,(j+1)*COTE), fill = \"red\")\n",
    "\n",
    "def affiche_mort(i,j):   #agit sur gestion_canvas et l'affichage du canevas \n",
    "    canvas.delete(gestion_canvas[i][j])\n",
    "    gestion_canvas[i][j] = 0"
   ]
  },
  {
   "cell_type": "code",
   "execution_count": null,
   "metadata": {},
   "outputs": [],
   "source": []
  },
  {
   "cell_type": "markdown",
   "metadata": {},
   "source": [
    "- À l'aide de la méthode `canvas.bind` appeler la fonction `modifie` quand on clique sur le canevas.\n",
    "Que doit-on changer si on veut appeler directement `modifie` sans passer par une fonction intermédiaire ?\n",
    "- Créer une fonction `regle_vie(i,j,etat_grille)` qui décide si la case de coordonnée (i,j) doit devenir vivante ou morte.\n",
    "- Écrire une fonction `suivant()` qui à partir de etat_grille calcule le nouvel état en utilisant `regle_vie(i,j,etat_grille)` sur chaque cellule (i,j). Lier cette fonction à un bouton qu'on ajoutera à l'interface.\n",
    "- Écrire la fonction `update(ancien_etat,nouvel_etat)` qui met à jour l'affichage en partant de l'`ancien_etat` de la grille tel qu'affiché et le `nouvel_état` qu'on veut afficher. Appeler cette fonction dans la fonction suivant pour mettre à jour l'affichage.\n",
    "- Ajouter un bouton jouer et stop de façon à ce que jouer lance en boucle la simulation du jeu de la vie et stop l'arrête. Pour répéter une fonction à intervalle régulier, on rapelle que `racine.after(1000,fonction)` exécute `fonction()` après 1000 ms."
   ]
  },
  {
   "cell_type": "markdown",
   "metadata": {},
   "source": [
    "- Vérifier votre programme à partir d'exemples simples donnés sur la page Wikipedia.\n",
    "- Tester une collision entre un vaisseau et un autre vaisseau, et entre vaisseau et une figure stable.\n",
    "- Montrer que le jeu de la vie ne conserve pas le nombre de cellules vivantes au cours du temps.\n",
    "- Le nombre de cellules vivantes peut il croitre à l'infini?\n",
    "- Peut-on remonter l'automate dans le temps de manière unique?\n",
    "- Modifier les règles du jeu de la vie (automate ``life-like'') et faire des tests sur différentes configurations. Plus précisément, il faut choisir les valeurs pour lesquelles une cellule morte devient vivante (3 pour le jeu de la vie), et pour lesquelles elle reste vivante (2 et 3 pour le jeu de la vie).\n",
    "- Trouver un automate ``life-like'' qui rende stable la configuration \n",
    "\n",
    "        0010\n",
    "        1101\n",
    "\n",
    "- Existe-t'il un automate ``life-like'' qui conserve le nombre de cellules vivantes au cours du temps?"
   ]
  },
  {
   "cell_type": "code",
   "execution_count": null,
   "metadata": {},
   "outputs": [],
   "source": [
    "racine=tk.Tk()\n",
    "racine.title(\"Jeu de la vie\")\n",
    "\n",
    "\n",
    "\n",
    "racine.mainloop()"
   ]
  }
 ],
 "metadata": {
  "kernelspec": {
   "display_name": "Python 3",
   "language": "python",
   "name": "python3"
  },
  "language_info": {
   "codemirror_mode": {
    "name": "ipython",
    "version": 3
   },
   "file_extension": ".py",
   "mimetype": "text/x-python",
   "name": "python",
   "nbconvert_exporter": "python",
   "pygments_lexer": "ipython3",
   "version": "3.8.5"
  }
 },
 "nbformat": 4,
 "nbformat_minor": 2
}
