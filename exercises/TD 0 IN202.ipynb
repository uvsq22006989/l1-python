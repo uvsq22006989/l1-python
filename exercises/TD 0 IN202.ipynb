{
 "cells": [
  {
   "cell_type": "markdown",
   "metadata": {},
   "source": [
    "# TD0 Représentation de nombres"
   ]
  },
  {
   "cell_type": "markdown",
   "metadata": {},
   "source": [
    "Convertir en binaire le nombre 115 (en effectuant des divisions successives par 2). "
   ]
  },
  {
   "cell_type": "markdown",
   "metadata": {},
   "source": [
    "On représente un entier en binaire par une liste de 0 et de 1. Donner une fonction `conversionBase2(nombre)`\n",
    "qui transforme un entier en sa représentation binaire. Attention, les bits sont calculés dans l'ordre inverse\n",
    "(little endian), il faudra sans doute renverser la liste avec la méthode `.reverse()`."
   ]
  },
  {
   "cell_type": "code",
   "execution_count": 13,
   "metadata": {},
   "outputs": [
    {
     "output_type": "stream",
     "name": "stdout",
     "text": [
      "[1, 1, 1, 0, 0, 1, 1]\n"
     ]
    }
   ],
   "source": [
    "def conversionBase2(nombre):\n",
    "    res = []\n",
    "    while nombre>0 :\n",
    "        res.append(nombre%2)\n",
    "        nombre=nombre//2\n",
    "    res.reverse()\n",
    "    return res\n",
    "\n",
    "print(conversionBase2(115))"
   ]
  },
  {
   "cell_type": "markdown",
   "metadata": {},
   "source": [
    "Faire une fonction d'affichage d'une liste représentant un nombre en binaire. Pour afficher avec `print` sans passer à la ligne il faut utiliser l'argument optionnel `end=\"\"`."
   ]
  },
  {
   "cell_type": "code",
   "execution_count": 15,
   "metadata": {},
   "outputs": [
    {
     "output_type": "stream",
     "name": "stdout",
     "text": [
      "1110011"
     ]
    }
   ],
   "source": [
    "def afficheBase(liste):\n",
    "        for i in liste:\n",
    "                print(i,end=\"\")\n",
    "\n",
    "afficheBase(conversionBase2(115))"
   ]
  },
  {
   "cell_type": "markdown",
   "metadata": {},
   "source": [
    "Convertir un nombre dans n'importe quelle base b (représenté comme une liste des chiffres dans cette base).\n",
    "Que faut-il changer dans afficheBase pour gérer n'importe quelle base ?"
   ]
  },
  {
   "cell_type": "code",
   "execution_count": 59,
   "metadata": {},
   "outputs": [
    {
     "output_type": "execute_result",
     "data": {
      "text/plain": [
       "[1, 1, 1, 0, 0, 1, 1]"
      ]
     },
     "metadata": {},
     "execution_count": 59
    }
   ],
   "source": [
    "def conversionBase(nombre,b):\n",
    "    res = []\n",
    "    while nombre>0 :\n",
    "        res.append(nombre%b)\n",
    "        nombre=nombre//b\n",
    "    res.reverse()\n",
    "    return res\n",
    "\n",
    "conversionBase(115,2)"
   ]
  },
  {
   "cell_type": "markdown",
   "metadata": {},
   "source": [
    "Quelles sont les nombres entiers qu'on peut écrire avec n chiffres en base b ?"
   ]
  },
  {
   "cell_type": "markdown",
   "metadata": {},
   "source": [
    "Écrire une fonction d'affichage pour un nombre en Hexadécimal (en base 16).\n",
    "On rappelle que 10 doit être représenté par A, 11 par B ..."
   ]
  },
  {
   "cell_type": "code",
   "execution_count": 38,
   "metadata": {},
   "outputs": [
    {
     "output_type": "stream",
     "name": "stdout",
     "text": [
      "22B118"
     ]
    }
   ],
   "source": [
    "def afficheBaseHexa(liste):\n",
    "     for i in liste:\n",
    "         if (i>10):\n",
    "            if (i==10):\n",
    "                print(\"A\", end=\"\")\n",
    "            if (i==11):\n",
    "                print(\"B\", end=\"\")\n",
    "            if (i==12):\n",
    "                 print(\"C\", end=\"\")\n",
    "            if (i==13):\n",
    "                 print(\"D\", end=\"\")\n",
    "            if (i==14):\n",
    "                 print(\"E\", end=\"\")\n",
    "         print(i,end=\"\")\n",
    "\n",
    "            \n",
    "afficheBaseHexa(conversionBase(8888,16))"
   ]
  },
  {
   "cell_type": "markdown",
   "metadata": {},
   "source": [
    "Donner la valeur de $(1001101)_2$ (dans la représentation traditionnelle en base 10).\n",
    "Écrire une fonction qui transforme la représentation en base b d'un entier en cet entier."
   ]
  },
  {
   "cell_type": "code",
   "execution_count": 27,
   "metadata": {},
   "outputs": [
    {
     "output_type": "execute_result",
     "data": {
      "text/plain": [
       "115"
      ]
     },
     "metadata": {},
     "execution_count": 27
    }
   ],
   "source": [
    "def conversionEntier(liste,b):\n",
    "    result=0\n",
    "    total=len(liste)-1\n",
    "    for i in liste:\n",
    "        result=result +i*2**total\n",
    "        total=total-1\n",
    "\n",
    "    res = result\n",
    "    return res\n",
    "    \n",
    "test = conversionBase(115,2)\n",
    "conversionEntier(test,2)"
   ]
  },
  {
   "cell_type": "markdown",
   "metadata": {},
   "source": [
    "Additioner $(10001101)_2$ et $(10111001)_2$ à la main. "
   ]
  },
  {
   "cell_type": "markdown",
   "metadata": {},
   "source": [
    "On a `l` un nombre en base b et on veut l'écrire sur n chiffres (en ajoutant des 0 devant). Donner une fonction pour réaliser cette transformation."
   ]
  },
  {
   "cell_type": "code",
   "execution_count": 29,
   "metadata": {},
   "outputs": [
    {
     "output_type": "execute_result",
     "data": {
      "text/plain": [
       "[0, 0, 0, 1, 1, 1, 0, 0, 1, 1]"
      ]
     },
     "metadata": {},
     "execution_count": 29
    }
   ],
   "source": [
    "def etendreEcriture(l,n):\n",
    "    res = []\n",
    "    ctrl=n-len(l)\n",
    "    res=[0]*ctrl\n",
    "    res.extend(l)\n",
    "    return res\n",
    "\n",
    "etendreEcriture(test,10)"
   ]
  },
  {
   "cell_type": "markdown",
   "metadata": {},
   "source": [
    "Réaliser ensuite un programme qui additionne la représentation en base b de deux entiers `l1` et `l2`.\n",
    "On pourra utiliser la méthode `.insert(pos,val)` qui ajoute val à la position pos."
   ]
  },
  {
   "cell_type": "code",
   "execution_count": 71,
   "metadata": {},
   "outputs": [
    {
     "output_type": "execute_result",
     "data": {
      "text/plain": [
       "[1, 0, 0, 0, 0]"
      ]
     },
     "metadata": {},
     "execution_count": 71
    }
   ],
   "source": [
    "#Algorithme d'addition\n",
    "\n",
    "\n",
    "def addition(l1,l2,b):\n",
    "    res = []\n",
    "    total=0\n",
    "    retenue=0\n",
    "    if len(l1)>=len(l2):\n",
    "        l2=etendreEcriture(l2,len(l1))\n",
    "    if len(l1)<len(l2):\n",
    "        l1=etendreEcriture(l1,len(l2))\n",
    "\n",
    "    for i in range(len(l1)) :\n",
    "        total=l1[len(l1)-i-1]+l2[len(l2)-i-1]+retenue\n",
    "        retenue=0\n",
    "        if total>=b:\n",
    "            res.insert(0,total-b)\n",
    "            retenue=1\n",
    "        else :\n",
    "            res.insert(0,total)\n",
    "    if retenue==1:\n",
    "        res.insert(0,retenue)\n",
    "             \n",
    "    return res\n",
    "\n",
    "test1 = conversionBase(8,2)\n",
    "test2 = conversionBase(8,2)\n",
    "addition(test1,test2,2)\n",
    "\n",
    "\n"
   ]
  },
  {
   "cell_type": "code",
   "execution_count": null,
   "metadata": {},
   "outputs": [],
   "source": []
  }
 ],
 "metadata": {
  "kernelspec": {
   "display_name": "Python 3",
   "language": "python",
   "name": "python3"
  },
  "language_info": {
   "codemirror_mode": {
    "name": "ipython",
    "version": 3
   },
   "file_extension": ".py",
   "mimetype": "text/x-python",
   "name": "python",
   "nbconvert_exporter": "python",
   "pygments_lexer": "ipython3",
   "version": "3.8.5-final"
  }
 },
 "nbformat": 4,
 "nbformat_minor": 4
}