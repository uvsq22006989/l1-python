{
 "cells": [
  {
   "cell_type": "markdown",
   "metadata": {},
   "source": [
    "Commencer par importer 'tkinter' et les librairies nécessaires à l'aide des commandes suivantes :"
   ]
  },
  {
   "cell_type": "code",
   "execution_count": 7,
   "metadata": {},
   "outputs": [],
   "source": [
    "import tkinter as tk\n",
    "import PIL as pil\n",
    "from PIL import Image\n",
    "from PIL import ImageTk \n",
    "from tkinter import filedialog\n",
    "from tkinter import simpledialog"
   ]
  },
  {
   "cell_type": "markdown",
   "metadata": {},
   "source": [
    "Créer une fenêtre tkinter qui a pour titre \"Rappel du premier Semestre\" et qui affiche le texte \"J'adore Python !\" dans la fenêtre"
   ]
  },
  {
   "cell_type": "code",
   "execution_count": 15,
   "metadata": {},
   "outputs": [],
   "source": [
    "#racine = tk.Tk()\n",
    "#Le texte \"j'adore Python\" doit être placé dans un label\n",
    "#label = tk.Label(racine, text=\"j'adore Python\", font=(\"helvetica\", \"20\")) \n",
    "#label.grid()\n",
    "#buton=tk.Button(racine, text=\"Tout effacer\",command=fermer_fenetre,font=(\"helvetica\",\"20\"))\n",
    "#racine.mainloop()"
   ]
  },
  {
   "cell_type": "markdown",
   "metadata": {},
   "source": [
    "Toujours dans la même fenêtre, ajouter maintenant un bouton permettant de quitter la fenêtre, il faudra pour cela \n",
    "créer une fonction callback `fermer_fenetre` qui appelle la méthode `destroy()`"
   ]
  },
  {
   "cell_type": "code",
   "execution_count": 78,
   "metadata": {},
   "outputs": [],
   "source": [
    "cpt=0\n",
    "\n",
    "def affiche(event):\n",
    "    couleur['text']=event.widget['bg']\n",
    "\n",
    "\n",
    "def fermer_fenetre():\n",
    "    racine.destroy()\n",
    "\n",
    "def compteur(event):\n",
    "    global cpt\n",
    "    cpt=cpt+1\n",
    "    label['text']=str(cpt)\n",
    "    canvas['bg']='blue'\n",
    "\n",
    "racine = tk.Tk()\n",
    "label = tk.Label(racine, text=\"j'adore Python\") \n",
    "label.grid(column=0, row=0)\n",
    "\n",
    "couleur= tk.Label(racine,text=\"incolore\")\n",
    "couleur.grid(column=0,row=2)\n",
    "\n",
    "buton=tk.Button(racine, text=\"Tout effacer\",command=fermer_fenetre,)\n",
    "buton.grid(column=0, row=1)\n",
    "\n",
    "canvas = tk.Canvas(racine, bg=\"red\", height=300, width=300)\n",
    "canvas.grid(column=1, row=0,)\n",
    "canvas.bind(\"<Button-1>\",compteur)\n",
    "\n",
    "noir = tk.Canvas(racine, bg=\"black\", height=300, width=300)\n",
    "noir.grid(column=1, row=1,)\n",
    "\n",
    "canvas.bind(\"<Double-1>\",affiche)\n",
    "noir.bind(\"<Double-1>\",affiche)\n",
    "\n",
    "\n",
    "racine.mainloop()"
   ]
  },
  {
   "cell_type": "markdown",
   "metadata": {},
   "source": [
    "Maintenant nous allons modifier la disposition des différents éléments en utilisant une grille pour positionner les éléments dans la fenêtre. Ajouter un canevas rouge à droite du label et du bouton."
   ]
  },
  {
   "cell_type": "code",
   "execution_count": 4,
   "metadata": {},
   "outputs": [],
   "source": [
    "#Faire un canevas de taile 300x300 pour que ce soit lisible"
   ]
  },
  {
   "cell_type": "markdown",
   "metadata": {},
   "source": [
    "Ajouter un canevas noir en dessous du canevas rouge précédent. Faire une fonction qui permet de compter le nombre de clics sur le carré rouge. Afficher cette valeur dans le label qui servait à afficher \"j'adore python\". Attention, le compteur du nombre de clics est appelé dans une fonction callback, il faut donc le récupérer en dehors de cette fonction en le déclarant comme variable globale. Utiliser la méthode `bind` pour récupérer le clic de souris."
   ]
  },
  {
   "cell_type": "code",
   "execution_count": 5,
   "metadata": {},
   "outputs": [],
   "source": [
    "#def compteur(event):\n",
    "    #definir la variable globale compt\n",
    "    #actualiser la valeur affichée dans le label\n",
    "\n",
    "#ajouter un canevas"
   ]
  },
  {
   "cell_type": "markdown",
   "metadata": {},
   "source": [
    "Créer une unique fonction qui renvoie la couleur du canevas sur lequel on a double-cliqué.\n",
    "(la couleur peut s'afficher dans le terminal ou dans le label d'affichage)"
   ]
  },
  {
   "cell_type": "code",
   "execution_count": null,
   "metadata": {},
   "outputs": [],
   "source": [
    "#def affiche(event):\n",
    "    "
   ]
  },
  {
   "cell_type": "markdown",
   "metadata": {},
   "source": [
    "Créer une nouvelle fenêtre qui permet de charger une image depuis un fichier en utilisant la fonction `charger(widg)`. \n",
    "Vous allez devoir passer un paramètre dans la fonction callback `charger`. On ne demande pas de comprendre le fonctionnement de la fonction `charger`."
   ]
  },
  {
   "cell_type": "code",
   "execution_count": 79,
   "metadata": {},
   "outputs": [],
   "source": [
    "create=True\n",
    "\n",
    "def charger(widg):\n",
    "    global create\n",
    "    global photo\n",
    "    global img\n",
    "    global canvas\n",
    "    filename= filedialog.askopenfile(mode='rb', title='Choose a file')\n",
    "    img = pil.Image.open(filename)\n",
    "    photo = ImageTk.PhotoImage(img)\n",
    "    print(photo)\n",
    "    if create:    \n",
    "        canvas = tk.Canvas(widg, width = img.size[0], height = img.size[1])\n",
    "        canvas.create_image(0,0,anchor = tk.NW, image=photo)\n",
    "        canvas.pack()\n",
    "        create=False\n",
    "        \n",
    "    else:\n",
    "        canvas.pack_forget()\n",
    "        canvas = tk.Canvas(widg, width = img.size[0], height = img.size[1])\n",
    "        canvas.create_image(0,0,anchor = tk.NW, image=photo)\n",
    "        canvas.pack()"
   ]
  },
  {
   "cell_type": "code",
   "execution_count": 8,
   "metadata": {},
   "outputs": [],
   "source": []
  },
  {
   "cell_type": "markdown",
   "metadata": {},
   "source": [
    "(Question supplémentaire) Faire une fenêtre qui :\n",
    "- Permet de taper dans une zone de texte\n",
    "- A un label d'affichage\n",
    "- A deux boutons, respectivement \"Bouton1\" et \"Bouton2\" permettant d'afficher dans le label le numéro du bouton sur lequel on a cliqué\n",
    "\n",
    "- A un dernier bouton qui permet d'afficher dans le label le texte tapé dans la zone de texte"
   ]
  },
  {
   "cell_type": "code",
   "execution_count": 118,
   "metadata": {},
   "outputs": [],
   "source": [
    "def afficheText():\n",
    "    ztext.get()\n",
    "    exo['text']=ztext.get()\n",
    "\n",
    "def bouton1():\n",
    "    exo['text']='Clic sur le boutton 1'\n",
    "\n",
    "def bouton2():\n",
    "    exo['text']='Clic sur le boutton 2'\n",
    "def btn(nbr):\n",
    "    exo['text']='Clic sur le bouton'+ str(nbr)\n",
    "\n",
    "\n",
    "window = tk.Tk()\n",
    "\n",
    "ztext=tk.Entry(window)\n",
    "ztext.grid(row=0,column=0,columnspan=3)\n",
    "\n",
    "exo=tk.Label(window, text=\"vide\") \n",
    "exo.grid(column=2, row=2)\n",
    "\n",
    "buton1=tk.Button(window, text=\"Boutton1\",command=lambda :btn(1))\n",
    "buton1.grid(column=1, row=1)\n",
    "\n",
    "buton2=tk.Button(window, text=\"Boutton 2\",command=lambda: btn(2))\n",
    "buton2.grid(column=2, row=1)\n",
    "\n",
    "buton3=tk.Button(window, text=\"Boutton 3\",command=afficheText)\n",
    "buton3.grid(column=3, row=1)\n",
    "\n",
    "\n",
    "\n",
    "window.mainloop()"
   ]
  },
  {
   "cell_type": "code",
   "execution_count": null,
   "metadata": {},
   "outputs": [],
   "source": []
  }
 ],
 "metadata": {
  "kernelspec": {
   "display_name": "Python 3",
   "language": "python",
   "name": "python3"
  },
  "language_info": {
   "codemirror_mode": {
    "name": "ipython",
    "version": 3
   },
   "file_extension": ".py",
   "mimetype": "text/x-python",
   "name": "python",
   "nbconvert_exporter": "python",
   "pygments_lexer": "ipython3",
   "version": "3.8.5"
  }
 },
 "nbformat": 4,
 "nbformat_minor": 4
}