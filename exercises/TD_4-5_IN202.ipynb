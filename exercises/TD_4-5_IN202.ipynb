{
 "cells": [
  {
   "cell_type": "markdown",
   "metadata": {},
   "source": [
    "# Échauffement de Huffman\n",
    "\n",
    "1. Donner la table des fréquences puis l'arbre de Huffman du texte suivant: `ceci est un exemple de code de Huffman, le construire c'est le maitriser`\n",
    "\n",
    "\n",
    "\n",
    "2. Utiliser l'arbre de Huffman construit pour coder le texte (ou au moins ses première lettres) et comparer la taille du texte compressé à la taille du texte original en ASCII."
   ]
  },
  {
   "cell_type": "markdown",
   "metadata": {},
   "source": [
    "# Compression LZ77\n",
    "\n",
    "\n",
    "L'algorithme marche de la façon suivante:\n",
    "\n",
    "* On a une chaîne de caractères en entrée et on commence en se plaçant sur le premier caractère\n",
    "\n",
    "* Sur un caractère donné on cherche le plus grand sous-mot qui commence par cette lettre et\n",
    "  qui apparaît aussi avant. Par exemple si on est en troisième position dans an*a*nas alors le plus long sous-mot \n",
    "  est *ana*.\n",
    " \n",
    "* On code ce sous-mot en faisant référence à sa précédente occurrence. Dans l'exemple précédent, \n",
    "  le sous-mot fait trois lettres et commence deux lettres avant, on le code par (2,3).\n",
    "\n",
    "* Si le mot est de taille 0, ou 1, on écrit juste la lettre.\n",
    "\n",
    "\n",
    "Généralement on borne la fenêtre de recherche dans laquelle on cherche un sous-mot identique afin de limiter\n",
    "le temps de calcul quand on compresse de grands textes."
   ]
  },
  {
   "cell_type": "markdown",
   "metadata": {},
   "source": [
    "1. Donner le résultat de la compression de `aaaaaaaaaaaaaaaaa`.\n",
    "2. Donner le résultat de la compression de `Chabadi chabada chabababa`.\n",
    "3. Décompresser le message suivant: `Si, six(4, 2)cies(6, 5)nt(17, 5)cyprès, alor(25, 3)(18, 4)(27, 8)(44, 10)ro(46, 8)(55, 14)`."
   ]
  },
  {
   "cell_type": "markdown",
   "metadata": {},
   "source": [
    "# Implémentation\n",
    "\n",
    "On va compléter le code suivant, pour construire un petit compresseur LZ77.\n",
    "\n"
   ]
  },
  {
   "cell_type": "code",
   "execution_count": 5,
   "metadata": {},
   "outputs": [],
   "source": [
    "import tkinter as tk\n",
    "\n",
    "taille_fenetre = 100 #Taille de la fenêtre de recherche\n",
    "\n",
    "def match_size(mot,i,j): #renvoie la longueur du plus grand sous-mot commun,\n",
    "                       #dans le mot aux positions i et j avec j < i\n",
    "    k = 0\n",
    "    while (i < len(mot) and mot[i+k] == mot [j+k]):\n",
    "        k+=1\n",
    "\n",
    "\n",
    "    return k\n",
    "\n",
    "def max_match(mot,i): #renvoie le couple (position,taille) du plus grand match \n",
    "                      #trouvé dans mot à partir de la position i\n",
    "    j = max(0,i-taille_fenetre)  #première position où chercher un match\n",
    "    max_match = (0,0)\n",
    "    while j < i: #on cherche un match dans la fenetre de recherche\n",
    "        taille=match_size(mot,i,j)\n",
    "        if taille > max_match[1]:\n",
    "            max_match=(j,taille)\n",
    "        j +=1\n",
    "    return max_match\n",
    "\n",
    "\n",
    "def compresse():\n",
    "    texte_a_compresser = entree.get()\n",
    "    texte_compresse = [] #cette liste doit etre étendue pour contenir le texte compressé\n",
    "    #construction du code LZ77\n",
    "    i = 0\n",
    "    while i < len(texte_a_compresser): #pour chaque lettre du texte\n",
    "        compress=max_match(texte_a_compresser,i)\n",
    "        if compress[1]>= 2 :\n",
    "             texte_compresse.append((i-compress[0] , compress[1] ))\n",
    "             i+=compress[1]\n",
    "        else : \n",
    "             texte_compresse.append(texte_a_compresser[i])\n",
    "             i+=1\n",
    "    affichage_compression.config(text = str(texte_compresse)) #affichage du texte compressé \n",
    "    resultat.config(text = \"Taille compressée de \" + str(taille(texte_compresse)))\n",
    "\n",
    "\n",
    "def taille(liste_LZ):# calcule la taille de la liste. Un caractère compte 1 et \n",
    "                                   # une paire d'entier compte 2\n",
    "    taille = 0\n",
    "    for elem in liste_LZ:\n",
    "        pass#compléter ici\n",
    "    return taille\n",
    "\n",
    "\n",
    "racine = tk.Tk()\n",
    "racine.title(\"Compression de texte\")\n",
    "\n",
    "\n",
    "entree = tk.Entry(racine, width = 100,font = (\"helvetica\", \"20\"))\n",
    "entree.grid(row = 0, column = 0)\n",
    "\n",
    "\n",
    "\n",
    "affichage_compression = tk.Message(racine, font = (\"helvetica\", \"20\"), width = 1000)\n",
    "affichage_compression.grid(row = 1, column = 0, columnspan = 2)\n",
    "\n",
    "bouton_compresser = tk.Button(racine, text = \"Compresser\", command = compresse, font = (\"helvetica\", \"30\"))\n",
    "bouton_compresser.grid(row = 1, column = 0)\n",
    "\n",
    "resultat = tk.Label(racine, font = (\"helvetica\", \"20\"))\n",
    "resultat.grid(row = 3, column = 0, columnspan = 2)\n",
    "\n",
    "\n",
    "racine.mainloop()"
   ]
  },
  {
   "cell_type": "markdown",
   "metadata": {},
   "source": [
    "1. Compléter la fonction `match_size(mot,i,j)` qui trouve le plus grand sous-mot commun aux positions `i` et `j`\n",
    "   de la chaîne de caractère `mot`. On appelle un tel sous mot un *match*.\n",
    "   \n",
    "2. Compléter la fonction `max_match(mot,i)` qui trouve le plus grand match pour la position `i` de la chaîne de caractère `mot`. La fonction renvoie une paire d'entiers qui contient la position par rapport à `i` de ce match\n",
    "   et sa taille.\n",
    "3. Compléter la fonction `compresse` qui crée une liste de caratères et de paires d'entiers correspondant au code LZ77 du texte entrée, se trouvant dans la variable `texte_a_compresser`.\n",
    "4. Compléter la fonction `taille` qui calcule la taille du texte compressé, en comptant 1 pour les lettres et 2 pour les paires d'entiers. Pour distinguer un caractère d'une paire d'entiers dans la liste, on pourra utiliser\n",
    "   `isinstance(elem,str)` qui est vrai si et seulement si elem est une chaîne de caractère (les caractères en python sont des chaînes de caractère de taille 1).\n",
    "5. Ajouter un label ou plusieurs labels pour afficher les informations suivantes: la taille de la fenêtre de recherche, la taille du texte original et le rapport de compression (taille/taille_compressée).\n",
    "6. Permettre à l'utilisateur de changer la taille de la fenêtre de recherche. Que se passe-t-il quand on change sa valeur.\n",
    "7. Que se passe-t-il quand on interdit les matchs de taille 2 ? Et les matchs de taille 3 ?\n",
    "8. Est-ce que l'algorithme proposé trouve un code LZ optimal en terme de taille.\n",
    "9. Proposer un codage binaire d'un code LZ77 et écrire le code qui affiche un tel code binaire.\n",
    "   On supposera l'entrée donnée en ASCI (sur 7 bits). On pourra coder les entiers ainsi que les caractères sur 8 bits. Attention, il faut différentier les caractères et les paires d'entiers.\n"
   ]
  },
  {
   "cell_type": "code",
   "execution_count": null,
   "metadata": {},
   "outputs": [],
   "source": []
  }
 ],
 "metadata": {
  "kernelspec": {
   "display_name": "Python 3",
   "language": "python",
   "name": "python3"
  },
  "language_info": {
   "codemirror_mode": {
    "name": "ipython",
    "version": 3
   },
   "file_extension": ".py",
   "mimetype": "text/x-python",
   "name": "python",
   "nbconvert_exporter": "python",
   "pygments_lexer": "ipython3",
   "version": "3.8.5-final"
  }
 },
 "nbformat": 4,
 "nbformat_minor": 4
}